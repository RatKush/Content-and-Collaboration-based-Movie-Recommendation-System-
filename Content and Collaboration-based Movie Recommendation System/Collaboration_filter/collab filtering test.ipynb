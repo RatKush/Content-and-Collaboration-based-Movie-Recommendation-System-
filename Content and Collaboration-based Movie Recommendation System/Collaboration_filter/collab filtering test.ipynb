{
 "cells": [
  {
   "cell_type": "code",
   "execution_count": 1,
   "metadata": {},
   "outputs": [],
   "source": [
    "# Movie Recommendation System with Collaborative Filtering"
   ]
  },
  {
   "cell_type": "code",
   "execution_count": 1,
   "metadata": {},
   "outputs": [
    {
     "name": "stdout",
     "output_type": "stream",
     "text": [
      "Hello world\n",
      "I am Jupyter in the house in VS\n"
     ]
    }
   ],
   "source": [
    "print (\"Hello world\")\n",
    "print (\"I am Jupyter in the house in VS\")"
   ]
  },
  {
   "cell_type": "code",
   "execution_count": 2,
   "metadata": {},
   "outputs": [],
   "source": [
    "import pandas as pd\n",
    "from scipy import sparse\n",
    "from sklearn.metrics.pairwise  import cosine_similarity"
   ]
  },
  {
   "cell_type": "code",
   "execution_count": 3,
   "metadata": {},
   "outputs": [
    {
     "name": "stdout",
     "output_type": "stream",
     "text": [
      "   action1  action2  action3  romantic1  romantic2  romantic3\n",
      "0      4.0      5.0      3.0        0.0        2.0        1.0\n",
      "1      5.0      3.0      3.0        2.0        2.0        0.0\n",
      "2      1.0      0.0      0.0        4.0        5.0        4.0\n",
      "3      0.0      2.0      1.0        4.0        0.0        3.0\n",
      "4      1.0      0.0      2.0        3.0        3.0        4.0\n"
     ]
    }
   ],
   "source": [
    "rating = pd.read_csv(\"toy_dataset.csv\")\n",
    "rating= rating.fillna(0)\n",
    "print (rating)"
   ]
  },
  {
   "cell_type": "code",
   "execution_count": 5,
   "metadata": {},
   "outputs": [
    {
     "name": "stdout",
     "output_type": "stream",
     "text": [
      "[[ 1.          0.70668875  0.81368151 -0.79941088 -0.02539184 -0.91410609]\n",
      " [ 0.70668875  1.          0.72310153 -0.84515425 -0.5189993  -0.84337386]\n",
      " [ 0.81368151  0.72310153  1.         -0.84794611 -0.3799803  -0.80218063]\n",
      " [-0.79941088 -0.84515425 -0.84794611  1.          0.14803913  0.72374686]\n",
      " [-0.02539184 -0.5189993  -0.3799803   0.14803913  1.          0.39393939]\n",
      " [-0.91410609 -0.84337386 -0.80218063  0.72374686  0.39393939  1.        ]]\n"
     ]
    }
   ],
   "source": [
    "def standardize(row):\n",
    "    new_row= (row- row.mean())/ (row.max()-row.min())\n",
    "    return new_row\n",
    "\n",
    "# we are going to recommend based on rating of movies\n",
    "########################################### standardize was throwing error have to delete 1st column: user1 user2 .............\n",
    "rating_std= rating.apply(standardize)\n",
    "#print (rating_std)\n",
    "# T transpose   as we are not recommending based on user 'x' likes but on movies overall ratings\n",
    "# from sckit learn cosine_similarity\n",
    "item_similarity= cosine_similarity(rating_std.T)\n",
    "print(item_similarity)"
   ]
  },
  {
   "cell_type": "code",
   "execution_count": 6,
   "metadata": {},
   "outputs": [
    {
     "data": {
      "text/html": [
       "<div>\n",
       "<style scoped>\n",
       "    .dataframe tbody tr th:only-of-type {\n",
       "        vertical-align: middle;\n",
       "    }\n",
       "\n",
       "    .dataframe tbody tr th {\n",
       "        vertical-align: top;\n",
       "    }\n",
       "\n",
       "    .dataframe thead th {\n",
       "        text-align: right;\n",
       "    }\n",
       "</style>\n",
       "<table border=\"1\" class=\"dataframe\">\n",
       "  <thead>\n",
       "    <tr style=\"text-align: right;\">\n",
       "      <th></th>\n",
       "      <th>action1</th>\n",
       "      <th>action2</th>\n",
       "      <th>action3</th>\n",
       "      <th>romantic1</th>\n",
       "      <th>romantic2</th>\n",
       "      <th>romantic3</th>\n",
       "    </tr>\n",
       "  </thead>\n",
       "  <tbody>\n",
       "    <tr>\n",
       "      <th>action1</th>\n",
       "      <td>1.000000</td>\n",
       "      <td>0.706689</td>\n",
       "      <td>0.813682</td>\n",
       "      <td>-0.799411</td>\n",
       "      <td>-0.025392</td>\n",
       "      <td>-0.914106</td>\n",
       "    </tr>\n",
       "    <tr>\n",
       "      <th>action2</th>\n",
       "      <td>0.706689</td>\n",
       "      <td>1.000000</td>\n",
       "      <td>0.723102</td>\n",
       "      <td>-0.845154</td>\n",
       "      <td>-0.518999</td>\n",
       "      <td>-0.843374</td>\n",
       "    </tr>\n",
       "    <tr>\n",
       "      <th>action3</th>\n",
       "      <td>0.813682</td>\n",
       "      <td>0.723102</td>\n",
       "      <td>1.000000</td>\n",
       "      <td>-0.847946</td>\n",
       "      <td>-0.379980</td>\n",
       "      <td>-0.802181</td>\n",
       "    </tr>\n",
       "    <tr>\n",
       "      <th>romantic1</th>\n",
       "      <td>-0.799411</td>\n",
       "      <td>-0.845154</td>\n",
       "      <td>-0.847946</td>\n",
       "      <td>1.000000</td>\n",
       "      <td>0.148039</td>\n",
       "      <td>0.723747</td>\n",
       "    </tr>\n",
       "    <tr>\n",
       "      <th>romantic2</th>\n",
       "      <td>-0.025392</td>\n",
       "      <td>-0.518999</td>\n",
       "      <td>-0.379980</td>\n",
       "      <td>0.148039</td>\n",
       "      <td>1.000000</td>\n",
       "      <td>0.393939</td>\n",
       "    </tr>\n",
       "    <tr>\n",
       "      <th>romantic3</th>\n",
       "      <td>-0.914106</td>\n",
       "      <td>-0.843374</td>\n",
       "      <td>-0.802181</td>\n",
       "      <td>0.723747</td>\n",
       "      <td>0.393939</td>\n",
       "      <td>1.000000</td>\n",
       "    </tr>\n",
       "  </tbody>\n",
       "</table>\n",
       "</div>"
      ],
      "text/plain": [
       "            action1   action2   action3  romantic1  romantic2  romantic3\n",
       "action1    1.000000  0.706689  0.813682  -0.799411  -0.025392  -0.914106\n",
       "action2    0.706689  1.000000  0.723102  -0.845154  -0.518999  -0.843374\n",
       "action3    0.813682  0.723102  1.000000  -0.847946  -0.379980  -0.802181\n",
       "romantic1 -0.799411 -0.845154 -0.847946   1.000000   0.148039   0.723747\n",
       "romantic2 -0.025392 -0.518999 -0.379980   0.148039   1.000000   0.393939\n",
       "romantic3 -0.914106 -0.843374 -0.802181   0.723747   0.393939   1.000000"
      ]
     },
     "execution_count": 6,
     "metadata": {},
     "output_type": "execute_result"
    }
   ],
   "source": [
    "item_similarity_df= pd.DataFrame(item_similarity,index= rating.columns,columns= rating.columns)\n",
    "item_similarity_df\n"
   ]
  },
  {
   "cell_type": "markdown",
   "metadata": {},
   "source": [
    "action1 is similar to action 1 by 100%\n",
    "action1 is similar to action2 by 70%\n",
    "action1 is similar to action2 by 81%%\n",
    "basically following row\n",
    "recommendation NOW"
   ]
  },
  {
   "cell_type": "code",
   "execution_count": 7,
   "metadata": {},
   "outputs": [
    {
     "name": "stdout",
     "output_type": "stream",
     "text": [
      "action1      1.371159\n",
      "action2      1.265061\n",
      "action3      1.203271\n",
      "romantic2   -0.590909\n",
      "romantic1   -1.085620\n",
      "romantic3   -1.500000\n",
      "Name: romantic3, dtype: float64\n"
     ]
    }
   ],
   "source": [
    "# lets make recommendations\n",
    "def get_similar_movies(movie_name,user_rating):\n",
    "    similar_score= item_similarity_df[movie_name]*(user_rating-2.5)\n",
    "    similar_score= similar_score.sort_values(ascending= False)\n",
    "    return similar_score\n",
    "\n",
    "# movie watched by that user and his rating\n",
    "print(get_similar_movies(\"romantic3\",1))"
   ]
  },
  {
   "cell_type": "markdown",
   "metadata": {},
   "source": [
    "here userX rated poorlt rom3 but is recommending other rom\n",
    "so there is a trick substract mean rating fromm user_rating in get_similar_movies"
   ]
  },
  {
   "cell_type": "code",
   "execution_count": 10,
   "metadata": {},
   "outputs": [
    {
     "name": "stderr",
     "output_type": "stream",
     "text": [
      "C:\\Users\\kushw\\AppData\\Local\\Temp\\ipykernel_22812\\1441209149.py:7: FutureWarning: The frame.append method is deprecated and will be removed from pandas in a future version. Use pandas.concat instead.\n",
      "  similar_movies= similar_movies.append(get_similar_movies(movie,rating))\n",
      "C:\\Users\\kushw\\AppData\\Local\\Temp\\ipykernel_22812\\1441209149.py:7: FutureWarning: The frame.append method is deprecated and will be removed from pandas in a future version. Use pandas.concat instead.\n",
      "  similar_movies= similar_movies.append(get_similar_movies(movie,rating))\n",
      "C:\\Users\\kushw\\AppData\\Local\\Temp\\ipykernel_22812\\1441209149.py:7: FutureWarning: The frame.append method is deprecated and will be removed from pandas in a future version. Use pandas.concat instead.\n",
      "  similar_movies= similar_movies.append(get_similar_movies(movie,rating))\n"
     ]
    },
    {
     "data": {
      "text/html": [
       "<div>\n",
       "<style scoped>\n",
       "    .dataframe tbody tr th:only-of-type {\n",
       "        vertical-align: middle;\n",
       "    }\n",
       "\n",
       "    .dataframe tbody tr th {\n",
       "        vertical-align: top;\n",
       "    }\n",
       "\n",
       "    .dataframe thead th {\n",
       "        text-align: right;\n",
       "    }\n",
       "</style>\n",
       "<table border=\"1\" class=\"dataframe\">\n",
       "  <thead>\n",
       "    <tr style=\"text-align: right;\">\n",
       "      <th></th>\n",
       "      <th>action1</th>\n",
       "      <th>action3</th>\n",
       "      <th>action2</th>\n",
       "      <th>romantic2</th>\n",
       "      <th>romantic1</th>\n",
       "      <th>romantic3</th>\n",
       "    </tr>\n",
       "  </thead>\n",
       "  <tbody>\n",
       "    <tr>\n",
       "      <th>action1</th>\n",
       "      <td>2.500000</td>\n",
       "      <td>2.034204</td>\n",
       "      <td>1.766722</td>\n",
       "      <td>-0.063480</td>\n",
       "      <td>-1.998527</td>\n",
       "      <td>-2.285265</td>\n",
       "    </tr>\n",
       "    <tr>\n",
       "      <th>romantic2</th>\n",
       "      <td>0.038088</td>\n",
       "      <td>0.569970</td>\n",
       "      <td>0.778499</td>\n",
       "      <td>-1.500000</td>\n",
       "      <td>-0.222059</td>\n",
       "      <td>-0.590909</td>\n",
       "    </tr>\n",
       "    <tr>\n",
       "      <th>romantic3</th>\n",
       "      <td>1.371159</td>\n",
       "      <td>1.203271</td>\n",
       "      <td>1.265061</td>\n",
       "      <td>-0.590909</td>\n",
       "      <td>-1.085620</td>\n",
       "      <td>-1.500000</td>\n",
       "    </tr>\n",
       "  </tbody>\n",
       "</table>\n",
       "</div>"
      ],
      "text/plain": [
       "            action1   action3   action2  romantic2  romantic1  romantic3\n",
       "action1    2.500000  2.034204  1.766722  -0.063480  -1.998527  -2.285265\n",
       "romantic2  0.038088  0.569970  0.778499  -1.500000  -0.222059  -0.590909\n",
       "romantic3  1.371159  1.203271  1.265061  -0.590909  -1.085620  -1.500000"
      ]
     },
     "execution_count": 10,
     "metadata": {},
     "output_type": "execute_result"
    }
   ],
   "source": [
    "# if user rated several movies   userX\n",
    "userX= [(\"action1\",5),(\"romantic2\",1),(\"romantic3\",1)]\n",
    "similar_movies= pd.DataFrame()\n",
    "\n",
    "for movie,rating in userX:\n",
    "    #similar_movies= pd.concat([similar_movies,get_similar_movies(movie,rating)])\n",
    "    similar_movies= similar_movies.append(get_similar_movies(movie,rating))\n",
    "\n",
    "similar_movies.head()\n",
    "#similar_movies.sum().sort_values(ascending= False)"
   ]
  },
  {
   "cell_type": "markdown",
   "metadata": {},
   "source": [
    "on toy data set working fine Now apply on movies.csv and corresponding rating.csv"
   ]
  }
 ],
 "metadata": {
  "kernelspec": {
   "display_name": "Python 3.10.6 64-bit",
   "language": "python",
   "name": "python3"
  },
  "language_info": {
   "codemirror_mode": {
    "name": "ipython",
    "version": 3
   },
   "file_extension": ".py",
   "mimetype": "text/x-python",
   "name": "python",
   "nbconvert_exporter": "python",
   "pygments_lexer": "ipython3",
   "version": "3.10.6"
  },
  "orig_nbformat": 4,
  "vscode": {
   "interpreter": {
    "hash": "4f00d0b7d2d74a3e728e20173854c34dbe6ec4b8fc34a6b6e35561d6d69a04ed"
   }
  }
 },
 "nbformat": 4,
 "nbformat_minor": 2
}
